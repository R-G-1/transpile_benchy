{
 "cells": [
  {
   "cell_type": "code",
   "execution_count": 17,
   "metadata": {},
   "outputs": [
    {
     "name": "stderr",
     "output_type": "stream",
     "text": [
      "[autoreload of transpile_benchy.interface failed: Traceback (most recent call last):\n",
      "  File \"/home/jones1/transpile_benchy/.venv/lib/python3.9/site-packages/IPython/extensions/autoreload.py\", line 276, in check\n",
      "    superreload(m, reload, self.old_objects)\n",
      "  File \"/home/jones1/transpile_benchy/.venv/lib/python3.9/site-packages/IPython/extensions/autoreload.py\", line 500, in superreload\n",
      "    update_generic(old_obj, new_obj)\n",
      "  File \"/home/jones1/transpile_benchy/.venv/lib/python3.9/site-packages/IPython/extensions/autoreload.py\", line 397, in update_generic\n",
      "    update(a, b)\n",
      "  File \"/home/jones1/transpile_benchy/.venv/lib/python3.9/site-packages/IPython/extensions/autoreload.py\", line 349, in update_class\n",
      "    if update_generic(old_obj, new_obj):\n",
      "  File \"/home/jones1/transpile_benchy/.venv/lib/python3.9/site-packages/IPython/extensions/autoreload.py\", line 397, in update_generic\n",
      "    update(a, b)\n",
      "  File \"/home/jones1/transpile_benchy/.venv/lib/python3.9/site-packages/IPython/extensions/autoreload.py\", line 309, in update_function\n",
      "    setattr(old, name, getattr(new, name))\n",
      "ValueError: __init__() requires a code object with 1 free vars, not 0\n",
      "]\n"
     ]
    }
   ],
   "source": [
    "%reload_ext autoreload\n",
    "%autoreload 2"
   ]
  },
  {
   "attachments": {},
   "cell_type": "markdown",
   "metadata": {},
   "source": [
    "### Example benchmarking comparison between 2 Qiskit transpilers"
   ]
  },
  {
   "cell_type": "code",
   "execution_count": 18,
   "metadata": {},
   "outputs": [
    {
     "ename": "TypeError",
     "evalue": "__init__() got an unexpected keyword argument 'filter_str'",
     "output_type": "error",
     "traceback": [
      "\u001b[0;31m---------------------------------------------------------------------------\u001b[0m",
      "\u001b[0;31mTypeError\u001b[0m                                 Traceback (most recent call last)",
      "Cell \u001b[0;32mIn[18], line 4\u001b[0m\n\u001b[1;32m      1\u001b[0m \u001b[39mfrom\u001b[39;00m \u001b[39mtranspile_benchy\u001b[39;00m\u001b[39m.\u001b[39;00m\u001b[39minterface\u001b[39;00m \u001b[39mimport\u001b[39;00m QASMBench\n\u001b[1;32m      2\u001b[0m \u001b[39mimport\u001b[39;00m \u001b[39mqiskit\u001b[39;00m\n\u001b[0;32m----> 4\u001b[0m qasm_bench \u001b[39m=\u001b[39m QASMBench(size\u001b[39m=\u001b[39;49m\u001b[39m\"\u001b[39;49m\u001b[39msmall\u001b[39;49m\u001b[39m\"\u001b[39;49m, filter_str\u001b[39m=\u001b[39;49m[\u001b[39m'\u001b[39;49m\u001b[39mtoffoli_n3\u001b[39;49m\u001b[39m'\u001b[39;49m])\n\u001b[1;32m      6\u001b[0m \u001b[39mfrom\u001b[39;00m \u001b[39mtranspile_benchy\u001b[39;00m\u001b[39m.\u001b[39;00m\u001b[39mmetrics\u001b[39;00m \u001b[39mimport\u001b[39;00m DepthMetric\n\u001b[1;32m      7\u001b[0m \u001b[39mfrom\u001b[39;00m \u001b[39mqiskit\u001b[39;00m\u001b[39m.\u001b[39;00m\u001b[39mcircuit\u001b[39;00m\u001b[39m.\u001b[39;00m\u001b[39mlibrary\u001b[39;00m\u001b[39m.\u001b[39;00m\u001b[39mstandard_gates\u001b[39;00m\u001b[39m.\u001b[39;00m\u001b[39mx\u001b[39;00m \u001b[39mimport\u001b[39;00m CXGate, XGate\n",
      "\u001b[0;31mTypeError\u001b[0m: __init__() got an unexpected keyword argument 'filter_str'"
     ]
    }
   ],
   "source": [
    "from transpile_benchy.interface import QASMBench\n",
    "import qiskit\n",
    "\n",
    "qasm_bench = QASMBench(size=\"small\", filter_list=['toffoli_n3'])\n",
    "\n",
    "from transpile_benchy.metrics import DepthMetric\n",
    "from qiskit.circuit.library.standard_gates.x import CXGate, XGate\n",
    "\n",
    "basis_gate = qiskit.circuit.Gate(name='cx',num_qubits=2, params=[])\n",
    "\n",
    "depth_metric = DepthMetric(CXGate())\n",
    "\n",
    "from qiskit.transpiler import CouplingMap\n",
    "\n",
    "coupling_map = CouplingMap.from_grid(4, 5)"
   ]
  },
  {
   "cell_type": "code",
   "execution_count": null,
   "metadata": {},
   "outputs": [],
   "source": [
    "from transpile_benchy.runner import CustomPassManager\n",
    "from qiskit.transpiler.passes import (\n",
    "    DenseLayout,\n",
    "    LookaheadSwap,\n",
    "    TrivialLayout,\n",
    "    BasicSwap,\n",
    "    SabreLayout,\n",
    "    SabreSwap,\n",
    ")\n",
    "from qiskit.transpiler.passes import (\n",
    "    ApplyLayout,\n",
    "    SetLayout,\n",
    "    FullAncillaAllocation,\n",
    "    EnlargeWithAncilla,\n",
    ")\n",
    "\n",
    "\n",
    "class Trivial_Basic(CustomPassManager):\n",
    "    def main_process(self):\n",
    "        \"\"\"Process the circuit.\"\"\"\n",
    "        self.pm.append(\n",
    "            [\n",
    "                TrivialLayout(self.coupling),\n",
    "                FullAncillaAllocation(self.coupling),\n",
    "                EnlargeWithAncilla(),\n",
    "                ApplyLayout(),\n",
    "                BasicSwap(self.coupling),\n",
    "            ]\n",
    "        )\n",
    "\n",
    "\n",
    "# class Dense_Lookahead(CustomPassManager):\n",
    "#     def main_process(self, circuit):\n",
    "#         \"\"\"Process the circuit.\"\"\"\n",
    "#         self.main_pm.append(\n",
    "#             [\n",
    "#                 DenseLayout(coupling_map),\n",
    "#                 FullAncillaAllocation(coupling_map),\n",
    "#                 EnlargeWithAncilla(),\n",
    "#                 ApplyLayout(),\n",
    "#                 LookaheadSwap(coupling_map),\n",
    "#             ]\n",
    "#         )\n",
    "#         return self.main_pm.run(circuit)\n",
    "\n",
    "\n",
    "class SABRE(CustomPassManager):\n",
    "    def main_process(self):\n",
    "        \"\"\"Process the circuit.\"\"\"\n",
    "        self.pm.append(\n",
    "            [\n",
    "                SabreLayout(self.coupling),\n",
    "                # FullAncillaAllocation(coupling_map),\n",
    "                # EnlargeWithAncilla(),\n",
    "                # ApplyLayout(),\n",
    "                SabreSwap(self.coupling),\n",
    "            ]\n",
    "        )"
   ]
  },
  {
   "cell_type": "code",
   "execution_count": null,
   "metadata": {},
   "outputs": [
    {
     "name": "stderr",
     "output_type": "stream",
     "text": [
      "INFO:transpile_benchy:Running benchmarks for circuits...\n",
      "Running circuits for QASMBench:   0%|          | 0/1 [00:00<?, ?it/s]WARNING:transpile_benchy:No result found for monodromy_depth on circuit toffoli_n3 with transpiler Trivial_Basic\n",
      "WARNING:transpile_benchy:No result found for monodromy_depth on circuit toffoli_n3 with transpiler Trivial_Basic\n",
      "WARNING:transpile_benchy:No result found for monodromy_depth on circuit toffoli_n3 with transpiler Trivial_Basic\n",
      "WARNING:transpile_benchy:No result found for monodromy_depth on circuit toffoli_n3 with transpiler SABRE\n",
      "WARNING:transpile_benchy:No result found for monodromy_depth on circuit toffoli_n3 with transpiler SABRE\n",
      "WARNING:transpile_benchy:No result found for monodromy_depth on circuit toffoli_n3 with transpiler SABRE\n",
      "Running circuits for QASMBench: 100%|██████████| 1/1 [00:00<00:00,  8.78it/s]\n"
     ]
    }
   ],
   "source": [
    "import logging\n",
    "from transpile_benchy.benchmark import Benchmark\n",
    "\n",
    "# Create a specific logger for transpile_benchy and set its level to DEBUG\n",
    "transpile_benchy_logger = logging.getLogger(\"transpile_benchy\")\n",
    "# transpile_benchy_logger.setLevel(logging.DEBUG)\n",
    "transpile_benchy_logger.setLevel(logging.INFO)\n",
    "\n",
    "# Silence the qiskit logger by setting its level to WARNING or higher\n",
    "qiskit_logger = logging.getLogger(\"qiskit\")\n",
    "qiskit_logger.setLevel(logging.WARNING)\n",
    "\n",
    "benchmark = Benchmark(\n",
    "    [Trivial_Basic(coupling_map), SABRE(coupling_map)],\n",
    "    [qasm_bench],\n",
    "    [depth_metric],\n",
    "    transpile_benchy_logger,\n",
    ")\n",
    "benchmark.run()"
   ]
  },
  {
   "cell_type": "code",
   "execution_count": null,
   "metadata": {},
   "outputs": [],
   "source": [
    "benchmark.plot(save=True)"
   ]
  }
 ],
 "metadata": {
  "kernelspec": {
   "display_name": ".venv",
   "language": "python",
   "name": "python3"
  },
  "language_info": {
   "codemirror_mode": {
    "name": "ipython",
    "version": 3
   },
   "file_extension": ".py",
   "mimetype": "text/x-python",
   "name": "python",
   "nbconvert_exporter": "python",
   "pygments_lexer": "ipython3",
   "version": "3.9.16"
  },
  "orig_nbformat": 4
 },
 "nbformat": 4,
 "nbformat_minor": 2
}
