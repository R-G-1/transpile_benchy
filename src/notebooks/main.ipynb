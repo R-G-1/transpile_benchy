{
 "cells": [
  {
   "attachments": {},
   "cell_type": "markdown",
   "metadata": {},
   "source": [
    "### Example benchmarking comparison between 2 Qiskit transpilers\n"
   ]
  },
  {
   "cell_type": "code",
   "execution_count": 3,
   "metadata": {},
   "outputs": [
    {
     "name": "stdout",
     "output_type": "stream",
     "text": [
      "['qec_en_n5', 'qaoa_n3', 'grover_n2', 'toffoli_n3', 'hs4_n4', 'variational_n4', 'error_correctiond3_n5', 'deutsch_n2', 'ipea_n2', 'hhl_n7', 'bell_n4', 'quantumwalks_n2', 'wstate_n3', 'shor_n5', 'ising_n10', 'dnn_n2', 'basis_test_n4', 'basis_trotter_n4', 'basis_change_n3', 'cat_state_n4', 'bb84_n8', 'teleportation_n3', 'qrng_n4', 'fredkin_n3', 'qec_sm_n5', 'adder_n10', 'qaoa_n6', 'hhl_n10', 'qpe_n9', 'dnn_n8', 'adder_n4', 'linearsolver_n3', 'qft_n4', 'lpn_n5', 'pea_n5', 'iswap_n2', 'simon_n6']\n"
     ]
    }
   ],
   "source": [
    "from transpile_benchy.interface import QASMBench\n",
    "import qiskit\n",
    "\n",
    "qasm_bench = QASMBench(size=\"small\", filter_list=[\"toffoli\"])\n",
    "print(qasm_bench)  # list of names of all possible circuits for qasm\n",
    "\n",
    "# print(all_circuits)\n",
    "\n",
    "from transpile_benchy.metrics import DepthMetric\n",
    "from qiskit.circuit.library.standard_gates.x import CXGate, XGate\n",
    "\n",
    "basis_gate = CXGate()\n",
    "\n",
    "depth_metric = DepthMetric(basis_gate=basis_gate)\n",
    "\n",
    "from qiskit.transpiler import CouplingMap\n",
    "\n",
    "coupling_map = CouplingMap.from_grid(4, 5)"
   ]
  },
  {
   "cell_type": "code",
   "execution_count": 4,
   "metadata": {},
   "outputs": [],
   "source": [
    "from transpile_benchy.runner import CustomPassManager\n",
    "from qiskit.transpiler.passes import (\n",
    "    DenseLayout,\n",
    "    LookaheadSwap,\n",
    "    TrivialLayout,\n",
    "    BasicSwap,\n",
    "    SabreLayout,\n",
    "    SabreSwap,\n",
    ")\n",
    "from qiskit.transpiler.passes import (\n",
    "    ApplyLayout,\n",
    "    SetLayout,\n",
    "    FullAncillaAllocation,\n",
    "    EnlargeWithAncilla,\n",
    ")\n",
    "\n",
    "\n",
    "class Trivial_Basic(CustomPassManager):\n",
    "    def main_process(self):\n",
    "        \"\"\"Process the circuit.\"\"\"\n",
    "        self.pm.append(\n",
    "            [\n",
    "                TrivialLayout(self.coupling),\n",
    "                FullAncillaAllocation(self.coupling),\n",
    "                EnlargeWithAncilla(),\n",
    "                ApplyLayout(),\n",
    "                BasicSwap(self.coupling),\n",
    "            ]\n",
    "        )\n",
    "\n",
    "\n",
    "# class Dense_Lookahead(CustomPassManager):\n",
    "#     def main_process(self, circuit):\n",
    "#         \"\"\"Process the circuit.\"\"\"\n",
    "#         self.main_pm.append(\n",
    "#             [\n",
    "#                 DenseLayout(coupling_map),\n",
    "#                 FullAncillaAllocation(coupling_map),\n",
    "#                 EnlargeWithAncilla(),\n",
    "#                 ApplyLayout(),\n",
    "#                 LookaheadSwap(coupling_map),\n",
    "#             ]\n",
    "#         )\n",
    "#         return self.main_pm.run(circuit)\n",
    "\n",
    "\n",
    "class SABRE(CustomPassManager):\n",
    "    def main_process(self):\n",
    "        \"\"\"Process the circuit.\"\"\"\n",
    "        self.pm.append(\n",
    "            [\n",
    "                SabreLayout(self.coupling),\n",
    "                # FullAncillaAllocation(coupling_map),\n",
    "                # EnlargeWithAncilla(),\n",
    "                # ApplyLayout(),\n",
    "                SabreSwap(self.coupling),\n",
    "            ]\n",
    "        )"
   ]
  },
  {
   "cell_type": "code",
   "execution_count": 5,
   "metadata": {},
   "outputs": [
    {
     "name": "stderr",
     "output_type": "stream",
     "text": [
      "INFO:transpile_benchy:Running benchmarks for circuits...\n",
      "Running circuits for QASMBench:   0%|          | 0/1 [00:00<?, ?it/s]"
     ]
    },
    {
     "name": "stderr",
     "output_type": "stream",
     "text": [
      "Running circuits for QASMBench:   0%|          | 0/1 [00:00<?, ?it/s]\n"
     ]
    },
    {
     "ename": "AttributeError",
     "evalue": "'Trivial_Basic' object has no attribute 'reset'",
     "output_type": "error",
     "traceback": [
      "\u001b[0;31m---------------------------------------------------------------------------\u001b[0m",
      "\u001b[0;31mAttributeError\u001b[0m                            Traceback (most recent call last)",
      "Cell \u001b[0;32mIn[5], line 19\u001b[0m\n\u001b[1;32m     11\u001b[0m qiskit_logger\u001b[39m.\u001b[39msetLevel(logging\u001b[39m.\u001b[39mWARNING)\n\u001b[1;32m     13\u001b[0m benchmark \u001b[39m=\u001b[39m Benchmark(\n\u001b[1;32m     14\u001b[0m     [Trivial_Basic(coupling_map), SABRE(coupling_map)],\n\u001b[1;32m     15\u001b[0m     [qasm_bench],\n\u001b[1;32m     16\u001b[0m     [depth_metric],\n\u001b[1;32m     17\u001b[0m     transpile_benchy_logger,\n\u001b[1;32m     18\u001b[0m )\n\u001b[0;32m---> 19\u001b[0m benchmark\u001b[39m.\u001b[39;49mrun()\n",
      "File \u001b[0;32m~/transpile_benchy/src/transpile_benchy/benchmark.py:210\u001b[0m, in \u001b[0;36mBenchmark.run\u001b[0;34m(self)\u001b[0m\n\u001b[1;32m    204\u001b[0m     circuits \u001b[39m=\u001b[39m \u001b[39mself\u001b[39m\u001b[39m.\u001b[39mload_quantum_circuits(submodule)\n\u001b[1;32m    205\u001b[0m     \u001b[39mfor\u001b[39;00m circuit \u001b[39min\u001b[39;00m tqdm(\n\u001b[1;32m    206\u001b[0m         circuits,\n\u001b[1;32m    207\u001b[0m         total\u001b[39m=\u001b[39mtotal,\n\u001b[1;32m    208\u001b[0m         desc\u001b[39m=\u001b[39m\u001b[39mf\u001b[39m\u001b[39m\"\u001b[39m\u001b[39mRunning circuits for \u001b[39m\u001b[39m{\u001b[39;00msubmodule\u001b[39m.\u001b[39m\u001b[39m__class__\u001b[39m\u001b[39m.\u001b[39m\u001b[39m__name__\u001b[39m\u001b[39m}\u001b[39;00m\u001b[39m\"\u001b[39m,\n\u001b[1;32m    209\u001b[0m     ):\n\u001b[0;32m--> 210\u001b[0m         \u001b[39mself\u001b[39;49m\u001b[39m.\u001b[39;49mrun_single_circuit(circuit)\n\u001b[1;32m    212\u001b[0m \u001b[39m# for some unknown reason have to clean out garbage keys from results\u001b[39;00m\n\u001b[1;32m    213\u001b[0m \u001b[39m# I think this has to do with the default dict\u001b[39;00m\n\u001b[1;32m    214\u001b[0m \u001b[39m# WARNING HORRIBLE HACK CODE\u001b[39;00m\n\u001b[1;32m    215\u001b[0m \u001b[39mfor\u001b[39;00m metric \u001b[39min\u001b[39;00m \u001b[39mself\u001b[39m\u001b[39m.\u001b[39mmetrics:\n",
      "File \u001b[0;32m~/transpile_benchy/src/transpile_benchy/benchmark.py:192\u001b[0m, in \u001b[0;36mBenchmark.run_single_circuit\u001b[0;34m(self, circuit)\u001b[0m\n\u001b[1;32m    190\u001b[0m \u001b[39mfor\u001b[39;00m transpiler \u001b[39min\u001b[39;00m \u001b[39mself\u001b[39m\u001b[39m.\u001b[39mtranspilers:\n\u001b[1;32m    191\u001b[0m     \u001b[39mfor\u001b[39;00m _ \u001b[39min\u001b[39;00m \u001b[39mrange\u001b[39m(\u001b[39mself\u001b[39m\u001b[39m.\u001b[39mnum_runs):\n\u001b[0;32m--> 192\u001b[0m         transpiled_circuit \u001b[39m=\u001b[39m \u001b[39mself\u001b[39;49m\u001b[39m.\u001b[39;49m_try_transpilation(transpiler, circuit)\n\u001b[1;32m    193\u001b[0m         \u001b[39mif\u001b[39;00m transpiled_circuit \u001b[39mis\u001b[39;00m \u001b[39mNone\u001b[39;00m:\n\u001b[1;32m    194\u001b[0m             \u001b[39mcontinue\u001b[39;00m\n",
      "File \u001b[0;32m~/transpile_benchy/src/transpile_benchy/benchmark.py:167\u001b[0m, in \u001b[0;36mBenchmark._try_transpilation\u001b[0;34m(self, transpiler, circuit)\u001b[0m\n\u001b[1;32m    162\u001b[0m     \u001b[39mreturn\u001b[39;00m \u001b[39mNone\u001b[39;00m\n\u001b[1;32m    164\u001b[0m \u001b[39mself\u001b[39m\u001b[39m.\u001b[39mlogger\u001b[39m.\u001b[39mdebug(\n\u001b[1;32m    165\u001b[0m     \u001b[39mf\u001b[39m\u001b[39m\"\u001b[39m\u001b[39mRunning transpiler \u001b[39m\u001b[39m{\u001b[39;00mtranspiler\u001b[39m.\u001b[39mname\u001b[39m}\u001b[39;00m\u001b[39m on circuit \u001b[39m\u001b[39m{\u001b[39;00mcircuit\u001b[39m.\u001b[39mname\u001b[39m}\u001b[39;00m\u001b[39m\"\u001b[39m\n\u001b[1;32m    166\u001b[0m )\n\u001b[0;32m--> 167\u001b[0m transpiler\u001b[39m.\u001b[39;49mreset()\n\u001b[1;32m    168\u001b[0m transpiled_circuit \u001b[39m=\u001b[39m transpiler\u001b[39m.\u001b[39mrun(circuit)\n\u001b[1;32m    169\u001b[0m \u001b[39mif\u001b[39;00m transpiled_circuit \u001b[39mis\u001b[39;00m \u001b[39mNone\u001b[39;00m:\n",
      "\u001b[0;31mAttributeError\u001b[0m: 'Trivial_Basic' object has no attribute 'reset'"
     ]
    }
   ],
   "source": [
    "import logging\n",
    "from transpile_benchy.benchmark import Benchmark\n",
    "\n",
    "# Create a specific logger for transpile_benchy and set its level to DEBUG\n",
    "transpile_benchy_logger = logging.getLogger(\"transpile_benchy\")\n",
    "# transpile_benchy_logger.setLevel(logging.DEBUG)\n",
    "transpile_benchy_logger.setLevel(logging.INFO)\n",
    "\n",
    "# Silence the qiskit logger by setting its level to WARNING or higher\n",
    "qiskit_logger = logging.getLogger(\"qiskit\")\n",
    "qiskit_logger.setLevel(logging.WARNING)\n",
    "\n",
    "benchmark = Benchmark(\n",
    "    [Trivial_Basic(coupling_map), SABRE(coupling_map)],\n",
    "    [qasm_bench],\n",
    "    [depth_metric],\n",
    "    transpile_benchy_logger,\n",
    ")\n",
    "benchmark.run()"
   ]
  },
  {
   "cell_type": "code",
   "execution_count": null,
   "metadata": {},
   "outputs": [],
   "source": [
    "benchmark.plot(save=True)"
   ]
  }
 ],
 "metadata": {
  "kernelspec": {
   "display_name": ".venv",
   "language": "python",
   "name": "python3"
  },
  "language_info": {
   "codemirror_mode": {
    "name": "ipython",
    "version": 3
   },
   "file_extension": ".py",
   "mimetype": "text/x-python",
   "name": "python",
   "nbconvert_exporter": "python",
   "pygments_lexer": "ipython3",
   "version": "3.9.16"
  },
  "orig_nbformat": 4
 },
 "nbformat": 4,
 "nbformat_minor": 2
}
