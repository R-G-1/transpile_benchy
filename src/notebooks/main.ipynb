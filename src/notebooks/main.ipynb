{
 "cells": [
  {
   "cell_type": "code",
   "execution_count": 48,
   "metadata": {},
   "outputs": [
    {
     "name": "stderr",
     "output_type": "stream",
     "text": [
      "[autoreload of transpile_benchy.interface failed: Traceback (most recent call last):\n",
      "  File \"/home/jones1/transpile_benchy/.venv/lib/python3.9/site-packages/IPython/extensions/autoreload.py\", line 276, in check\n",
      "    superreload(m, reload, self.old_objects)\n",
      "  File \"/home/jones1/transpile_benchy/.venv/lib/python3.9/site-packages/IPython/extensions/autoreload.py\", line 500, in superreload\n",
      "    update_generic(old_obj, new_obj)\n",
      "  File \"/home/jones1/transpile_benchy/.venv/lib/python3.9/site-packages/IPython/extensions/autoreload.py\", line 397, in update_generic\n",
      "    update(a, b)\n",
      "  File \"/home/jones1/transpile_benchy/.venv/lib/python3.9/site-packages/IPython/extensions/autoreload.py\", line 349, in update_class\n",
      "    if update_generic(old_obj, new_obj):\n",
      "  File \"/home/jones1/transpile_benchy/.venv/lib/python3.9/site-packages/IPython/extensions/autoreload.py\", line 397, in update_generic\n",
      "    update(a, b)\n",
      "  File \"/home/jones1/transpile_benchy/.venv/lib/python3.9/site-packages/IPython/extensions/autoreload.py\", line 309, in update_function\n",
      "    setattr(old, name, getattr(new, name))\n",
      "ValueError: __init__() requires a code object with 1 free vars, not 0\n",
      "]\n",
      "[autoreload of transpile_benchy.interface failed: Traceback (most recent call last):\n",
      "  File \"/home/jones1/transpile_benchy/.venv/lib/python3.9/site-packages/IPython/extensions/autoreload.py\", line 276, in check\n",
      "    superreload(m, reload, self.old_objects)\n",
      "  File \"/home/jones1/transpile_benchy/.venv/lib/python3.9/site-packages/IPython/extensions/autoreload.py\", line 500, in superreload\n",
      "    update_generic(old_obj, new_obj)\n",
      "  File \"/home/jones1/transpile_benchy/.venv/lib/python3.9/site-packages/IPython/extensions/autoreload.py\", line 397, in update_generic\n",
      "    update(a, b)\n",
      "  File \"/home/jones1/transpile_benchy/.venv/lib/python3.9/site-packages/IPython/extensions/autoreload.py\", line 349, in update_class\n",
      "    if update_generic(old_obj, new_obj):\n",
      "  File \"/home/jones1/transpile_benchy/.venv/lib/python3.9/site-packages/IPython/extensions/autoreload.py\", line 397, in update_generic\n",
      "    update(a, b)\n",
      "  File \"/home/jones1/transpile_benchy/.venv/lib/python3.9/site-packages/IPython/extensions/autoreload.py\", line 309, in update_function\n",
      "    setattr(old, name, getattr(new, name))\n",
      "ValueError: __init__() requires a code object with 1 free vars, not 0\n",
      "]\n"
     ]
    }
   ],
   "source": [
    "%reload_ext autoreload\n",
    "%autoreload 2"
   ]
  },
  {
   "attachments": {},
   "cell_type": "markdown",
   "metadata": {},
   "source": [
    "### Example benchmarking comparison between 2 Qiskit transpilers"
   ]
  },
  {
   "cell_type": "code",
   "execution_count": 54,
   "metadata": {},
   "outputs": [
    {
     "name": "stderr",
     "output_type": "stream",
     "text": [
      "[autoreload of transpile_benchy.interface failed: Traceback (most recent call last):\n",
      "  File \"/home/jones1/transpile_benchy/.venv/lib/python3.9/site-packages/IPython/extensions/autoreload.py\", line 276, in check\n",
      "    superreload(m, reload, self.old_objects)\n",
      "  File \"/home/jones1/transpile_benchy/.venv/lib/python3.9/site-packages/IPython/extensions/autoreload.py\", line 500, in superreload\n",
      "    update_generic(old_obj, new_obj)\n",
      "  File \"/home/jones1/transpile_benchy/.venv/lib/python3.9/site-packages/IPython/extensions/autoreload.py\", line 397, in update_generic\n",
      "    update(a, b)\n",
      "  File \"/home/jones1/transpile_benchy/.venv/lib/python3.9/site-packages/IPython/extensions/autoreload.py\", line 349, in update_class\n",
      "    if update_generic(old_obj, new_obj):\n",
      "  File \"/home/jones1/transpile_benchy/.venv/lib/python3.9/site-packages/IPython/extensions/autoreload.py\", line 397, in update_generic\n",
      "    update(a, b)\n",
      "  File \"/home/jones1/transpile_benchy/.venv/lib/python3.9/site-packages/IPython/extensions/autoreload.py\", line 309, in update_function\n",
      "    setattr(old, name, getattr(new, name))\n",
      "ValueError: __init__() requires a code object with 1 free vars, not 0\n",
      "]\n",
      "[autoreload of transpile_benchy.interface failed: Traceback (most recent call last):\n",
      "  File \"/home/jones1/transpile_benchy/.venv/lib/python3.9/site-packages/IPython/extensions/autoreload.py\", line 276, in check\n",
      "    superreload(m, reload, self.old_objects)\n",
      "  File \"/home/jones1/transpile_benchy/.venv/lib/python3.9/site-packages/IPython/extensions/autoreload.py\", line 500, in superreload\n",
      "    update_generic(old_obj, new_obj)\n",
      "  File \"/home/jones1/transpile_benchy/.venv/lib/python3.9/site-packages/IPython/extensions/autoreload.py\", line 397, in update_generic\n",
      "    update(a, b)\n",
      "  File \"/home/jones1/transpile_benchy/.venv/lib/python3.9/site-packages/IPython/extensions/autoreload.py\", line 349, in update_class\n",
      "    if update_generic(old_obj, new_obj):\n",
      "  File \"/home/jones1/transpile_benchy/.venv/lib/python3.9/site-packages/IPython/extensions/autoreload.py\", line 397, in update_generic\n",
      "    update(a, b)\n",
      "  File \"/home/jones1/transpile_benchy/.venv/lib/python3.9/site-packages/IPython/extensions/autoreload.py\", line 309, in update_function\n",
      "    setattr(old, name, getattr(new, name))\n",
      "ValueError: __init__() requires a code object with 1 free vars, not 0\n",
      "]\n"
     ]
    }
   ],
   "source": [
    "from transpile_benchy.interface import QASMBench\n",
    "import qiskit\n",
    "\n",
    "qasm_bench = QASMBench(size=\"small\", filter_list=[\"toffoli\"])\n",
    "all_circuits = (\n",
    "    qasm_bench.get_all_possible_circuits()\n",
    ")  # list of names of all possible circuits for qasm\n",
    "\n",
    "from transpile_benchy.metrics import DepthMetric\n",
    "from qiskit.circuit.library.standard_gates.x import CXGate, XGate\n",
    "\n",
    "basis_gate = CXGate()\n",
    "\n",
    "depth_metric = DepthMetric(basis_gate=basis_gate)\n",
    "\n",
    "from qiskit.transpiler import CouplingMap\n",
    "\n",
    "coupling_map = CouplingMap.from_grid(4, 5)"
   ]
  },
  {
   "cell_type": "code",
   "execution_count": 55,
   "metadata": {},
   "outputs": [
    {
     "data": {
      "text/plain": [
       "['adder_n10',\n",
       " 'variational_n4',\n",
       " 'hs4_n4',\n",
       " 'deutsch_n2',\n",
       " 'shor_n5',\n",
       " 'teleportation_n3',\n",
       " 'qec_en_n5',\n",
       " 'simon_n6',\n",
       " 'qft_n4',\n",
       " 'basis_change_n3',\n",
       " 'grover_n2',\n",
       " 'error_correctiond3_n5',\n",
       " 'adder_n4',\n",
       " 'ipea_n2',\n",
       " 'hhl_n10',\n",
       " 'qaoa_n3',\n",
       " 'quantumwalks_n2',\n",
       " 'qaoa_n6',\n",
       " 'hhl_n7',\n",
       " 'pea_n5',\n",
       " 'ising_n10',\n",
       " 'dnn_n2',\n",
       " 'dnn_n8',\n",
       " 'iswap_n2',\n",
       " 'wstate_n3',\n",
       " 'lpn_n5',\n",
       " 'cat_state_n4',\n",
       " 'toffoli_n3',\n",
       " 'bell_n4',\n",
       " 'qec_sm_n5',\n",
       " 'linearsolver_n3',\n",
       " 'basis_test_n4',\n",
       " 'basis_trotter_n4',\n",
       " 'fredkin_n3',\n",
       " 'qpe_n9',\n",
       " 'qrng_n4',\n",
       " 'bb84_n8']"
      ]
     },
     "execution_count": 55,
     "metadata": {},
     "output_type": "execute_result"
    }
   ],
   "source": [
    "all_circuits"
   ]
  },
  {
   "cell_type": "code",
   "execution_count": 50,
   "metadata": {},
   "outputs": [],
   "source": [
    "from transpile_benchy.runner import CustomPassManager\n",
    "from qiskit.transpiler.passes import (\n",
    "    DenseLayout,\n",
    "    LookaheadSwap,\n",
    "    TrivialLayout,\n",
    "    BasicSwap,\n",
    "    SabreLayout,\n",
    "    SabreSwap,\n",
    ")\n",
    "from qiskit.transpiler.passes import (\n",
    "    ApplyLayout,\n",
    "    SetLayout,\n",
    "    FullAncillaAllocation,\n",
    "    EnlargeWithAncilla,\n",
    ")\n",
    "\n",
    "\n",
    "class Trivial_Basic(CustomPassManager):\n",
    "    def main_process(self):\n",
    "        \"\"\"Process the circuit.\"\"\"\n",
    "        self.pm.append(\n",
    "            [\n",
    "                TrivialLayout(self.coupling),\n",
    "                FullAncillaAllocation(self.coupling),\n",
    "                EnlargeWithAncilla(),\n",
    "                ApplyLayout(),\n",
    "                BasicSwap(self.coupling),\n",
    "            ]\n",
    "        )\n",
    "\n",
    "\n",
    "# class Dense_Lookahead(CustomPassManager):\n",
    "#     def main_process(self, circuit):\n",
    "#         \"\"\"Process the circuit.\"\"\"\n",
    "#         self.main_pm.append(\n",
    "#             [\n",
    "#                 DenseLayout(coupling_map),\n",
    "#                 FullAncillaAllocation(coupling_map),\n",
    "#                 EnlargeWithAncilla(),\n",
    "#                 ApplyLayout(),\n",
    "#                 LookaheadSwap(coupling_map),\n",
    "#             ]\n",
    "#         )\n",
    "#         return self.main_pm.run(circuit)\n",
    "\n",
    "\n",
    "class SABRE(CustomPassManager):\n",
    "    def main_process(self):\n",
    "        \"\"\"Process the circuit.\"\"\"\n",
    "        self.pm.append(\n",
    "            [\n",
    "                SabreLayout(self.coupling),\n",
    "                # FullAncillaAllocation(coupling_map),\n",
    "                # EnlargeWithAncilla(),\n",
    "                # ApplyLayout(),\n",
    "                SabreSwap(self.coupling),\n",
    "            ]\n",
    "        )"
   ]
  },
  {
   "cell_type": "code",
   "execution_count": 51,
   "metadata": {},
   "outputs": [
    {
     "name": "stderr",
     "output_type": "stream",
     "text": [
      "INFO:transpile_benchy:Running benchmarks for circuits...\n",
      "Running circuits for QASMBench:   0%|          | 0/1 [00:00<?, ?it/s]WARNING:transpile_benchy:No result found for monodromy_depth on circuit toffoli_n3 with transpiler Trivial_Basic\n",
      "WARNING:transpile_benchy:No result found for monodromy_depth on circuit toffoli_n3 with transpiler Trivial_Basic\n",
      "WARNING:transpile_benchy:No result found for monodromy_depth on circuit toffoli_n3 with transpiler Trivial_Basic\n",
      "WARNING:transpile_benchy:No result found for monodromy_depth on circuit toffoli_n3 with transpiler SABRE\n",
      "WARNING:transpile_benchy:No result found for monodromy_depth on circuit toffoli_n3 with transpiler SABRE\n",
      "WARNING:transpile_benchy:No result found for monodromy_depth on circuit toffoli_n3 with transpiler SABRE\n",
      "Running circuits for QASMBench: 100%|██████████| 1/1 [00:00<00:00,  8.73it/s]\n"
     ]
    }
   ],
   "source": [
    "import logging\n",
    "from transpile_benchy.benchmark import Benchmark\n",
    "\n",
    "# Create a specific logger for transpile_benchy and set its level to DEBUG\n",
    "transpile_benchy_logger = logging.getLogger(\"transpile_benchy\")\n",
    "# transpile_benchy_logger.setLevel(logging.DEBUG)\n",
    "transpile_benchy_logger.setLevel(logging.INFO)\n",
    "\n",
    "# Silence the qiskit logger by setting its level to WARNING or higher\n",
    "qiskit_logger = logging.getLogger(\"qiskit\")\n",
    "qiskit_logger.setLevel(logging.WARNING)\n",
    "\n",
    "benchmark = Benchmark(\n",
    "    [Trivial_Basic(coupling_map), SABRE(coupling_map)],\n",
    "    [qasm_bench],\n",
    "    [depth_metric],\n",
    "    transpile_benchy_logger,\n",
    ")\n",
    "benchmark.run()"
   ]
  },
  {
   "cell_type": "code",
   "execution_count": 52,
   "metadata": {},
   "outputs": [],
   "source": [
    "benchmark.plot(save=True)"
   ]
  }
 ],
 "metadata": {
  "kernelspec": {
   "display_name": ".venv",
   "language": "python",
   "name": "python3"
  },
  "language_info": {
   "codemirror_mode": {
    "name": "ipython",
    "version": 3
   },
   "file_extension": ".py",
   "mimetype": "text/x-python",
   "name": "python",
   "nbconvert_exporter": "python",
   "pygments_lexer": "ipython3",
   "version": "3.9.16"
  },
  "orig_nbformat": 4
 },
 "nbformat": 4,
 "nbformat_minor": 2
}
