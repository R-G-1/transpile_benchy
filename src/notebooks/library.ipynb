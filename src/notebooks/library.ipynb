{
 "cells": [
  {
   "cell_type": "code",
   "execution_count": 1,
   "metadata": {},
   "outputs": [],
   "source": [
    "# want to test functionality of building a circuit library aggregated over the submodules"
   ]
  },
  {
   "cell_type": "code",
   "execution_count": 2,
   "metadata": {},
   "outputs": [],
   "source": [
    "from transpile_benchy.interfaces.qasm_interface import QASMBench, RedQueen\n",
    "\n",
    "interface = QASMBench(\"small\")\n",
    "# interface = RedQueen()"
   ]
  },
  {
   "cell_type": "code",
   "execution_count": 8,
   "metadata": {},
   "outputs": [
    {
     "name": "stdout",
     "output_type": "stream",
     "text": [
      "[\"['qec_en_n5', 'qaoa_n3', 'grover_n2', 'toffoli_n3', 'hs4_n4', 'variational_n4', 'error_correctiond3_n5', 'deutsch_n2', 'ipea_n2', 'hhl_n7', 'bell_n4', 'quantumwalks_n2', 'wstate_n3', 'shor_n5', 'ising_n10', 'dnn_n2', 'basis_test_n4', 'basis_trotter_n4', 'basis_change_n3', 'cat_state_n4', 'bb84_n8', 'teleportation_n3', 'qrng_n4', 'fredkin_n3', 'qec_sm_n5', 'adder_n10', 'qaoa_n6', 'hhl_n10', 'qpe_n9', 'dnn_n8', 'adder_n4', 'linearsolver_n3', 'qft_n4', 'lpn_n5', 'pea_n5', 'iswap_n2', 'simon_n6']\", \"['ft_1', 'hs', 'ipe', 'dj_balanced', 'bv', 'dj_constant', 'grover', 'bv_mcm', 'qpe', 'ft_2', 'quantum_teleportation']\"]\n"
     ]
    }
   ],
   "source": [
    "from transpile_benchy.library import Library\n",
    "\n",
    "lib = Library(size=\"small\")\n",
    "print(lib)"
   ]
  }
 ],
 "metadata": {
  "kernelspec": {
   "display_name": ".venv",
   "language": "python",
   "name": "python3"
  },
  "language_info": {
   "codemirror_mode": {
    "name": "ipython",
    "version": 3
   },
   "file_extension": ".py",
   "mimetype": "text/x-python",
   "name": "python",
   "nbconvert_exporter": "python",
   "pygments_lexer": "ipython3",
   "version": "3.9.16"
  },
  "orig_nbformat": 4
 },
 "nbformat": 4,
 "nbformat_minor": 2
}
