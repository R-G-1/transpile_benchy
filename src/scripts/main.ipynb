{
 "cells": [
  {
   "cell_type": "code",
   "execution_count": 4,
   "metadata": {},
   "outputs": [
    {
     "name": "stderr",
     "output_type": "stream",
     "text": [
      " 92%|█████████▏| 48/52 [00:14<00:00,  5.52it/s]"
     ]
    }
   ],
   "source": [
    "from transpile_benchy.main import Benchmark\n",
    "from qiskit import transpile\n",
    "\n",
    "\n",
    "# XXX not sure best way to define the runnables\n",
    "def t0(c):\n",
    "    return transpile(c, optimization_level=0)\n",
    "\n",
    "\n",
    "def t3(c):\n",
    "    return transpile(c, optimization_level=3)\n",
    "\n",
    "\n",
    "b = Benchmark(t0, t3, size=\"small\")\n",
    "b.run()\n",
    "\n",
    "# plot and save as svg\n",
    "b.plot(save=True)"
   ]
  }
 ],
 "metadata": {
  "kernelspec": {
   "display_name": ".venv",
   "language": "python",
   "name": "python3"
  },
  "language_info": {
   "codemirror_mode": {
    "name": "ipython",
    "version": 3
   },
   "file_extension": ".py",
   "mimetype": "text/x-python",
   "name": "python",
   "nbconvert_exporter": "python",
   "pygments_lexer": "ipython3",
   "version": "3.9.16"
  },
  "orig_nbformat": 4
 },
 "nbformat": 4,
 "nbformat_minor": 2
}
